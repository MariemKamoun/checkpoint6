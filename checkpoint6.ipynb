{
 "cells": [
  {
   "cell_type": "code",
   "execution_count": 11,
   "id": "183819ed",
   "metadata": {},
   "outputs": [
    {
     "name": "stdout",
     "output_type": "stream",
     "text": [
      "Le tableau initial: \n",
      "[[1 2]\n",
      " [3 4]\n",
      " [5 6]]\n",
      "Le tableau initial convertit en liste avec les mêmes éléments: \n",
      "[[1, 2], [3, 4], [5, 6]]\n"
     ]
    }
   ],
   "source": [
    "#1 \n",
    "from array import*\n",
    "import numpy as np\n",
    "a = np.array([(1, 2), (3, 4), (5,6)])\n",
    "print(\"Le tableau initial: \")\n",
    "print(a)\n",
    "a_list= a.tolist()\n",
    "print(\"Le tableau initial convertit en liste avec les mêmes éléments: \")\n",
    "print(a_list)\n"
   ]
  },
  {
   "cell_type": "code",
   "execution_count": 1,
   "id": "6126abc3",
   "metadata": {},
   "outputs": [
    {
     "name": "stdout",
     "output_type": "stream",
     "text": [
      "Le tableau initial est: \n",
      "[[55 25 15]\n",
      " [30 44  2]\n",
      " [11 45 77]]\n",
      "Les éléments de la diagonale sont: \n",
      "[55 44 77]\n",
      "La somme des éléments de la diagonale: \n",
      "176\n"
     ]
    }
   ],
   "source": [
    "#2\n",
    "import numpy as np\n",
    "\n",
    "n_array = np.array([[55, 25, 15],\n",
    "                    [30, 44, 2],\n",
    "                    [11, 45, 77]])\n",
    "  \n",
    "print(\"Le tableau initial est: \")\n",
    "print(n_array)\n",
    "  \n",
    "diag = np.diagonal(n_array)\n",
    "  \n",
    "print(\"Les éléments de la diagonale sont: \")\n",
    "print(diag)\n",
    "  \n",
    "print(\"La somme des éléments de la diagonale: \")\n",
    "print(sum(diag))"
   ]
  },
  {
   "cell_type": "code",
   "execution_count": 37,
   "id": "20324934",
   "metadata": {},
   "outputs": [
    {
     "name": "stdout",
     "output_type": "stream",
     "text": [
      "Le tableau initial est:\n",
      "[[1 2]\n",
      " [3 5]]\n",
      "Les valeurs plus grandes que 3 sont:  [3 5]\n"
     ]
    }
   ],
   "source": [
    "#3\n",
    "a = np.array([[1,2],[3,5]])\n",
    "print(\"Le tableau initial est:\")\n",
    "print(a)\n",
    "x=3\n",
    "print(\"Les valeurs plus grandes que 3 sont: \", a[a>=x])\n"
   ]
  },
  {
   "cell_type": "code",
   "execution_count": 40,
   "id": "b7d71a76",
   "metadata": {},
   "outputs": [
    {
     "name": "stdout",
     "output_type": "stream",
     "text": [
      "La liste A est: \n",
      "[[1 2 3]\n",
      " [4 5 6]]\n",
      "La liste B est: \n",
      "[[1 2 3]\n",
      " [4 5 6]]\n",
      "La somme des deux listes est: \n",
      "[[ 2  4  6]\n",
      " [ 8 10 12]]\n"
     ]
    }
   ],
   "source": [
    "#4\n",
    "A=np.array([[1,2,3],[4,5,6]])\n",
    "print(\"La liste A est: \")\n",
    "print(A)\n",
    "B=np.array([[1,2,3],[4,5,6]])\n",
    "print(\"La liste B est: \")\n",
    "print(B)\n",
    "C=A+B\n",
    "print(\"La somme des deux listes est: \")\n",
    "print(C)"
   ]
  },
  {
   "cell_type": "code",
   "execution_count": 26,
   "id": "c48b0552",
   "metadata": {},
   "outputs": [
    {
     "name": "stdout",
     "output_type": "stream",
     "text": [
      "Le tableau initial est: \n",
      "[[ 1 88  3  4]\n",
      " [ 1  2 67  4]]\n",
      "la moyenne= \n",
      "24.0\n",
      "la moyenne= \n",
      "18.5\n",
      "les éléments - la moyenne= \n",
      "[-23.0, 64.0, -21.0, -20.0, -17.5, -16.5, 48.5, -14.5]\n"
     ]
    }
   ],
   "source": [
    "#5\n",
    "import numpy as np\n",
    "a= np.array([[1,88,3,4],[1,2,67,4]])\n",
    "print(\"Le tableau initial est: \")\n",
    "print(a)\n",
    "l=[]\n",
    "for i in a:\n",
    "    s=i.mean()\n",
    "    print(\"la moyenne= \")\n",
    "    print(s)\n",
    "    for n in i:\n",
    "        x=n-s\n",
    "        l.append(x)\n",
    "print(\"les éléments - la moyenne= \")\n",
    "print(l)\n",
    "    \n"
   ]
  }
 ],
 "metadata": {
  "kernelspec": {
   "display_name": "Python 3",
   "language": "python",
   "name": "python3"
  },
  "language_info": {
   "codemirror_mode": {
    "name": "ipython",
    "version": 3
   },
   "file_extension": ".py",
   "mimetype": "text/x-python",
   "name": "python",
   "nbconvert_exporter": "python",
   "pygments_lexer": "ipython3",
   "version": "3.8.8"
  }
 },
 "nbformat": 4,
 "nbformat_minor": 5
}
